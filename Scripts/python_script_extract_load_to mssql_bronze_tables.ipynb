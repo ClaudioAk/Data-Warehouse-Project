{
 "cells": [
  {
   "cell_type": "code",
   "execution_count": null,
   "id": "66f488c9",
   "metadata": {},
   "outputs": [],
   "source": [
    "# importing all the required libraries\n",
    "\n",
    "import pandas as pd\n",
    "import numpy as np\n",
    "import pyodbc\n",
    "import sqlalchemy\n",
    "import os"
   ]
  },
  {
   "cell_type": "code",
   "execution_count": null,
   "id": "6738fe78",
   "metadata": {},
   "outputs": [
    {
     "name": "stdout",
     "output_type": "stream",
     "text": [
      "    cst_id     cst_key cst_firstname cst_lastname cst_marital_status cst_gndr  \\\n",
      "0  11000.0  AW00011000           Jon        Yang                   M        M   \n",
      "1  11001.0  AW00011001        Eugene      Huang                    S        M   \n",
      "2  11002.0  AW00011002         Ruben       Torres                  M        M   \n",
      "3  11003.0  AW00011003       Christy          Zhu                  S        F   \n",
      "4  11004.0  AW00011004     Elizabeth      Johnson                  S        F   \n",
      "\n",
      "  cst_create_date  \n",
      "0      2025-10-06  \n",
      "1      2025-10-06  \n",
      "2      2025-10-06  \n",
      "3      2025-10-06  \n",
      "4      2025-10-06  \n"
     ]
    }
   ],
   "source": [
    "#create a dynamic extraction function for csv files \n",
    "\n",
    "def extract_csv(file_path):\n",
    "    extracted_data = pd.read_csv(file_path)\n",
    "    return extracted_data\n",
    "\n",
    "extracted_data= extract_csv(r\"C:\\Users\\Claudio\\Documents\\source_crm\\cust_info.csv\")\n",
    "print(extracted_data.head())"
   ]
  },
  {
   "cell_type": "code",
   "execution_count": null,
   "id": "4e19660e",
   "metadata": {},
   "outputs": [
    {
     "data": {
      "text/plain": [
       "255"
      ]
     },
     "execution_count": 46,
     "metadata": {},
     "output_type": "execute_result"
    }
   ],
   "source": [
    "\n",
    "#check for drivers name \n",
    "\n",
    "pyodbc.drivers()\n",
    "\n",
    "#create connection engine to database\n",
    "\n",
    "from sqlalchemy import create_engine\n",
    "\n",
    "connection_uri = (f\"mssql+pyodbc://@DESKTOP-BP1GKPI/Datawarehouse?trusted_connection=yes&driver=ODBC Driver 17 for SQL Server\")\n",
    "db_engine = sqlalchemy.create_engine(connection_uri)\n",
    "\n",
    "#load the data to sql server\n",
    "\n",
    "extracted_data.to_sql(\n",
    "    name = \"crm_customer_info\",\n",
    "    schema=\"bronze\",\n",
    "    con= db_engine,\n",
    "    index=False,\n",
    "    if_exists=\"replace\"\n",
    ")\n"
   ]
  },
  {
   "cell_type": "code",
   "execution_count": null,
   "id": "b61167e2",
   "metadata": {},
   "outputs": [
    {
     "data": {
      "text/plain": [
       "(18494, 7)"
      ]
     },
     "execution_count": 47,
     "metadata": {},
     "output_type": "execute_result"
    }
   ],
   "source": [
    "#check the count of rows and columns againist the sql server\n",
    "\n",
    "Validation = pd.read_sql(\"SELECT * FROM bronze.crm_customer_info;\", db_engine)\n",
    "Validation.shape"
   ]
  },
  {
   "cell_type": "code",
   "execution_count": null,
   "id": "25f9090b",
   "metadata": {},
   "outputs": [
    {
     "data": {
      "text/plain": [
       "(397, 7)"
      ]
     },
     "execution_count": 48,
     "metadata": {},
     "output_type": "execute_result"
    }
   ],
   "source": [
    "# extract all the required csv files manually and load them to the sql server database\n",
    "\n",
    "extracted_data_prd = extract_csv(r\"C:\\Users\\Claudio\\Documents\\source_crm\\prd_info.csv\")\n",
    "\n",
    "#LOAD\n",
    "\n",
    "extracted_data_prd.to_sql(\n",
    "    name = \"crm_prduct_info\",\n",
    "    schema=\"bronze\",\n",
    "    con= db_engine,\n",
    "    index=False,\n",
    "    if_exists=\"replace\"\n",
    ")\n",
    "#check the count of rows and columns againist the sql server\n",
    "\n",
    "Validation = pd.read_sql(\"SELECT * FROM bronze.crm_prduct_info;\", db_engine)\n",
    "Validation.shape\n",
    "\n"
   ]
  },
  {
   "cell_type": "code",
   "execution_count": null,
   "id": "59246bd0",
   "metadata": {},
   "outputs": [
    {
     "data": {
      "text/plain": [
       "(60398, 9)"
      ]
     },
     "execution_count": 49,
     "metadata": {},
     "output_type": "execute_result"
    }
   ],
   "source": [
    "extracted_data_sales = extract_csv(r\"C:\\Users\\Claudio\\Documents\\source_crm\\sales_details.csv\")\n",
    "\n",
    "#LOAD\n",
    "\n",
    "extracted_data_sales.to_sql(\n",
    "    name = \"crm_sales_details\",\n",
    "    schema = \"bronze\",\n",
    "    con = db_engine,\n",
    "    index = False,\n",
    "    if_exists = \"replace\"\n",
    ")\n",
    "#check the count of rows and columns againist the sql server\n",
    "\n",
    "Validation = pd.read_sql(\"SELECT * FROM bronze.crm_sales_details;\", db_engine)\n",
    "Validation.shape"
   ]
  },
  {
   "cell_type": "code",
   "execution_count": null,
   "id": "9bde2803",
   "metadata": {},
   "outputs": [],
   "source": [
    "# Building up Dynamic load function to extract the rest of csv files automaticlly \n",
    "\n",
    "def load_to_sql (extracted_data, table_name, db_engine):\n",
    "    extracted_data.to_sql(\n",
    "        name = table_name,\n",
    "        schema = \"bronze\",\n",
    "        con = db_engine,\n",
    "        index = False,\n",
    "        if_exists = \"replace\"\n",
    "    )\n",
    "\n",
    "#create csv file to sql tables maping\n",
    "\n",
    "file_to_table_mapping = {\"CUST_AZ12\": \"erp_cust_az12\",\n",
    "                          \"LOC_A101\": \"erp_loc_a101\",\n",
    "                          \"PX_CAT_G1V2\": \"erp_px_cat_g1v2\"}\n",
    "\n",
    "#create the run_etl fuction\n",
    "\n",
    "def run_etl(source_folder, db_engine):\n",
    "    for file in os.listdir(source_folder):\n",
    "        if file.endswith(\".csv\"):\n",
    "            file_name_without_ext = os.path.splitext(file)[0]\n",
    "            table_name = file_to_table_mapping.get(file_name_without_ext)\n",
    "\n",
    "        if table_name:\n",
    "            file_path = os.path.join(source_folder, file)\n",
    "            extracted_data = extract_csv(file_path)\n",
    "            load_to_sql (extracted_data, table_name,db_engine)\n",
    "\n",
    "source_folder = r\"C:\\Users\\Claudio\\Documents\\source_erp\"\n",
    "run_etl(source_folder, db_engine)"
   ]
  },
  {
   "cell_type": "code",
   "execution_count": null,
   "id": "e3a015fb",
   "metadata": {},
   "outputs": [
    {
     "data": {
      "text/plain": [
       "(18484, 3)"
      ]
     },
     "execution_count": 55,
     "metadata": {},
     "output_type": "execute_result"
    }
   ],
   "source": [
    "#check the count of rows and columns againist the sql server\n",
    "\n",
    "Validation = pd.read_sql(\"SELECT * FROM bronze.erp_cust_az12;\", db_engine)\n",
    "Validation.shape"
   ]
  },
  {
   "cell_type": "code",
   "execution_count": 56,
   "id": "0e2b1a82",
   "metadata": {},
   "outputs": [
    {
     "data": {
      "text/plain": [
       "(18484, 2)"
      ]
     },
     "execution_count": 56,
     "metadata": {},
     "output_type": "execute_result"
    }
   ],
   "source": [
    "Validation = pd.read_sql(\"SELECT * FROM bronze.erp_loc_a101\", db_engine)\n",
    "Validation.shape"
   ]
  },
  {
   "cell_type": "code",
   "execution_count": 58,
   "id": "ad1c10b5",
   "metadata": {},
   "outputs": [
    {
     "data": {
      "text/plain": [
       "(37, 4)"
      ]
     },
     "execution_count": 58,
     "metadata": {},
     "output_type": "execute_result"
    }
   ],
   "source": [
    "Validation = pd.read_sql(\"SELECT * FROM bronze.erp_px_cat_g1v2;\", db_engine)\n",
    "Validation.shape"
   ]
  }
 ],
 "metadata": {
  "kernelspec": {
   "display_name": "Python 3",
   "language": "python",
   "name": "python3"
  },
  "language_info": {
   "codemirror_mode": {
    "name": "ipython",
    "version": 3
   },
   "file_extension": ".py",
   "mimetype": "text/x-python",
   "name": "python",
   "nbconvert_exporter": "python",
   "pygments_lexer": "ipython3",
   "version": "3.13.4"
  }
 },
 "nbformat": 4,
 "nbformat_minor": 5
}
